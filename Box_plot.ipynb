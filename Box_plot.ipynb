{
  "nbformat": 4,
  "nbformat_minor": 0,
  "metadata": {
    "colab": {
      "provenance": [],
      "authorship_tag": "ABX9TyOCpKX0oA8bkUxPuBda9ey0",
      "include_colab_link": true
    },
    "kernelspec": {
      "name": "python3",
      "display_name": "Python 3"
    },
    "language_info": {
      "name": "python"
    }
  },
  "cells": [
    {
      "cell_type": "markdown",
      "metadata": {
        "id": "view-in-github",
        "colab_type": "text"
      },
      "source": [
        "<a href=\"https://colab.research.google.com/github/Rohit050798/Statistic-Practice/blob/main/Box_plot.ipynb\" target=\"_parent\"><img src=\"https://colab.research.google.com/assets/colab-badge.svg\" alt=\"Open In Colab\"/></a>"
      ]
    },
    {
      "cell_type": "code",
      "execution_count": null,
      "metadata": {
        "id": "VExKfDOH5D-9"
      },
      "outputs": [],
      "source": [
        "import numpy as np\n",
        "import pandas as pd\n",
        "import matplotlib.pyplot as plt\n",
        "%matplotlib inline "
      ]
    },
    {
      "cell_type": "code",
      "source": [
        "dataset=[11,10,12,14,15,102,11,15,16,14,17,18,12,13,16,18,19,17,15,16,14,108]\n"
      ],
      "metadata": {
        "id": "Ib9KCuIT5nIW"
      },
      "execution_count": null,
      "outputs": []
    },
    {
      "cell_type": "code",
      "source": [
        "plt.hist(dataset)"
      ],
      "metadata": {
        "colab": {
          "base_uri": "https://localhost:8080/",
          "height": 334
        },
        "id": "iaRNY_Z550th",
        "outputId": "f3ff52f7-9802-4a05-be18-aaa55ecada33"
      },
      "execution_count": null,
      "outputs": [
        {
          "output_type": "execute_result",
          "data": {
            "text/plain": [
              "(array([20.,  0.,  0.,  0.,  0.,  0.,  0.,  0.,  0.,  2.]),\n",
              " array([ 10. ,  19.8,  29.6,  39.4,  49.2,  59. ,  68.8,  78.6,  88.4,\n",
              "         98.2, 108. ]),\n",
              " <a list of 10 Patch objects>)"
            ]
          },
          "metadata": {},
          "execution_count": 14
        },
        {
          "output_type": "display_data",
          "data": {
            "text/plain": [
              "<Figure size 432x288 with 1 Axes>"
            ],
            "image/png": "[encoded data removed]"
          },
          "metadata": {
            "needs_background": "light"
          }
        }
      ]
    },
    {
      "cell_type": "code",
      "source": [
        "#z score\n",
        "outliers= []\n",
        "def detect_outliers (data):\n",
        "  threshold=3   ##3rd standard devaitiom\n",
        "  mean = np.mean(data)\n",
        "  sd= np.std(data)\n",
        "\n",
        "  for i in data :\n",
        "    z_score= (i-mean)/sd\n",
        "    if np.abs(z_score)>threshold:\n",
        "        outliers.append(i)\n",
        "  return outliers"
      ],
      "metadata": {
        "id": "qisw2vlx5_gq"
      },
      "execution_count": null,
      "outputs": []
    },
    {
      "cell_type": "code",
      "source": [
        "detect_outliers (dataset)"
      ],
      "metadata": {
        "colab": {
          "base_uri": "https://localhost:8080/"
        },
        "id": "VQlvdC-17Hj2",
        "outputId": "ab63d124-daab-4810-81f9-4916bc191f9d"
      },
      "execution_count": null,
      "outputs": [
        {
          "output_type": "execute_result",
          "data": {
            "text/plain": [
              "[102, 108]"
            ]
          },
          "metadata": {},
          "execution_count": 13
        }
      ]
    },
    {
      "cell_type": "code",
      "source": [],
      "metadata": {
        "id": "2V7dtwWd7dLf"
      },
      "execution_count": null,
      "outputs": []
    },
    {
      "cell_type": "markdown",
      "source": [
        "##IQR \n",
        "1. SORT DATA\n",
        "2.CAL 25%  & 75%\n",
        "3. IQR(Q1-Q3)\n",
        "4. find lower frame (q1-1.5(IQR))\n",
        "5. find Upper Frame (Q3+1.5(IQR))\n",
        "\n"
      ],
      "metadata": {
        "id": "UJbnimmU7jCz"
      }
    },
    {
      "cell_type": "code",
      "source": [
        "##sort\n",
        "dataset=sorted(dataset)\n",
        "print(dataset)"
      ],
      "metadata": {
        "colab": {
          "base_uri": "https://localhost:8080/"
        },
        "id": "-uW51tII7-63",
        "outputId": "b02b86f9-fedf-48ed-fc6e-8534bce3f092"
      },
      "execution_count": null,
      "outputs": [
        {
          "output_type": "stream",
          "name": "stdout",
          "text": [
            "[10, 11, 11, 12, 12, 13, 14, 14, 14, 15, 15, 15, 16, 16, 16, 17, 17, 18, 18, 19, 102, 108]\n"
          ]
        }
      ]
    },
    {
      "cell_type": "code",
      "source": [
        "dataset"
      ],
      "metadata": {
        "colab": {
          "base_uri": "https://localhost:8080/"
        },
        "id": "bQ6XgCN58uSE",
        "outputId": "6ef5054f-7f87-47a5-88cb-1892d6fa7ab1"
      },
      "execution_count": null,
      "outputs": [
        {
          "output_type": "execute_result",
          "data": {
            "text/plain": [
              "[10,\n",
              " 11,\n",
              " 11,\n",
              " 12,\n",
              " 12,\n",
              " 13,\n",
              " 14,\n",
              " 14,\n",
              " 14,\n",
              " 15,\n",
              " 15,\n",
              " 15,\n",
              " 16,\n",
              " 16,\n",
              " 16,\n",
              " 17,\n",
              " 17,\n",
              " 18,\n",
              " 18,\n",
              " 19,\n",
              " 102,\n",
              " 108]"
            ]
          },
          "metadata": {},
          "execution_count": 20
        }
      ]
    },
    {
      "cell_type": "code",
      "source": [
        "q1,q3 = np.percentile(dataset,[25,75])\n",
        "print(q1,q3)"
      ],
      "metadata": {
        "colab": {
          "base_uri": "https://localhost:8080/"
        },
        "id": "CagSmd298OY_",
        "outputId": "036026e6-54f3-4612-a69e-049cf4071e1e"
      },
      "execution_count": null,
      "outputs": [
        {
          "output_type": "stream",
          "name": "stdout",
          "text": [
            "13.25 17.0\n"
          ]
        }
      ]
    },
    {
      "cell_type": "code",
      "source": [
        "##IQR\n",
        "IQR= q3-q1\n",
        "print(IQR)"
      ],
      "metadata": {
        "colab": {
          "base_uri": "https://localhost:8080/"
        },
        "id": "GDf_4tiW84GO",
        "outputId": "2fb9bf56-234b-43a9-874a-906bf7c6250a"
      },
      "execution_count": null,
      "outputs": [
        {
          "output_type": "stream",
          "name": "stdout",
          "text": [
            "3.75\n"
          ]
        }
      ]
    },
    {
      "cell_type": "code",
      "source": [
        "##LOWER FRAME AND UPPER FRAME\n",
        "Lower_fence= q1-(1.5*IQR)\n",
        "Upper_fence = q3+(1.5*IQR)\n",
        "print(Lower_fence,\"\\n\",Upper_fence)\n"
      ],
      "metadata": {
        "colab": {
          "base_uri": "https://localhost:8080/"
        },
        "id": "3pZtl6sc8_49",
        "outputId": "1b8bad80-41a0-4ad3-e5b3-835e9b7992f0"
      },
      "execution_count": null,
      "outputs": [
        {
          "output_type": "stream",
          "name": "stdout",
          "text": [
            "7.625 \n",
            " 22.625\n"
          ]
        }
      ]
    },
    {
      "cell_type": "code",
      "source": [
        "import seaborn as sns\n",
        "sns.boxplot(dataset)"
      ],
      "metadata": {
        "colab": {
          "base_uri": "https://localhost:8080/",
          "height": 337
        },
        "id": "mKFGvWFC9eJz",
        "outputId": "2640c6d6-0890-4ede-b9df-748daa3b13a2"
      },
      "execution_count": null,
      "outputs": [
        {
          "output_type": "stream",
          "name": "stderr",
          "text": [
            "/usr/local/lib/python3.8/dist-packages/seaborn/_decorators.py:36: FutureWarning: Pass the following variable as a keyword arg: x. From version 0.12, the only valid positional argument will be `data`, and passing other arguments without an explicit keyword will result in an error or misinterpretation.\n",
            "  warnings.warn(\n"
          ]
        },
        {
          "output_type": "execute_result",
          "data": {
            "text/plain": [
              "<matplotlib.axes._subplots.AxesSubplot at 0x7fe521628460>"
            ]
          },
          "metadata": {},
          "execution_count": 26
        },
        {
          "output_type": "display_data",
          "data": {
            "text/plain": [
              "<Figure size 432x288 with 1 Axes>"
            ],
            "image/png": "[encoded data removed]"
          },
          "metadata": {
            "needs_background": "light"
          }
        }
      ]
    }
  ]
}